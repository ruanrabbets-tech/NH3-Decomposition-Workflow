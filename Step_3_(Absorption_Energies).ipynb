{
  "nbformat": 4,
  "nbformat_minor": 0,
  "metadata": {
    "colab": {
      "provenance": [],
      "authorship_tag": "ABX9TyNX73Ul5ThMZdv/dyvC8k8n",
      "include_colab_link": true
    },
    "kernelspec": {
      "name": "python3",
      "display_name": "Python 3"
    },
    "language_info": {
      "name": "python"
    }
  },
  "cells": [
    {
      "cell_type": "markdown",
      "metadata": {
        "id": "view-in-github",
        "colab_type": "text"
      },
      "source": [
        "<a href=\"https://colab.research.google.com/github/ruanrabbets-tech/NH3-Decomposition-Workflow/blob/main/Step_3_(Absorption_Energies).ipynb\" target=\"_parent\"><img src=\"https://colab.research.google.com/assets/colab-badge.svg\" alt=\"Open In Colab\"/></a>"
      ]
    },
    {
      "cell_type": "code",
      "execution_count": null,
      "metadata": {
        "colab": {
          "base_uri": "https://localhost:8080/"
        },
        "collapsed": true,
        "id": "9slLy5CpUYXd",
        "outputId": "56f848db-9c61-405c-ad7d-c9edf20a329d"
      },
      "outputs": [
        {
          "output_type": "stream",
          "name": "stdout",
          "text": [
            "Requirement already satisfied: ase==3.23.0 in /usr/local/lib/python3.11/site-packages (3.23.0)\n",
            "Requirement already satisfied: numpy>=1.18.5 in /usr/local/lib/python3.11/site-packages (from ase==3.23.0) (2.2.6)\n",
            "Requirement already satisfied: scipy>=1.6.0 in /usr/local/lib/python3.11/site-packages (from ase==3.23.0) (1.15.3)\n",
            "Requirement already satisfied: matplotlib>=3.3.4 in /usr/local/lib/python3.11/site-packages (from ase==3.23.0) (3.10.3)\n",
            "Requirement already satisfied: contourpy>=1.0.1 in /usr/local/lib/python3.11/site-packages (from matplotlib>=3.3.4->ase==3.23.0) (1.3.2)\n",
            "Requirement already satisfied: cycler>=0.10 in /usr/local/lib/python3.11/site-packages (from matplotlib>=3.3.4->ase==3.23.0) (0.12.1)\n",
            "Requirement already satisfied: fonttools>=4.22.0 in /usr/local/lib/python3.11/site-packages (from matplotlib>=3.3.4->ase==3.23.0) (4.58.0)\n",
            "Requirement already satisfied: kiwisolver>=1.3.1 in /usr/local/lib/python3.11/site-packages (from matplotlib>=3.3.4->ase==3.23.0) (1.4.8)\n",
            "Requirement already satisfied: packaging>=20.0 in /usr/local/lib/python3.11/site-packages (from matplotlib>=3.3.4->ase==3.23.0) (24.2)\n",
            "Requirement already satisfied: pillow>=8 in /usr/local/lib/python3.11/site-packages (from matplotlib>=3.3.4->ase==3.23.0) (11.2.1)\n",
            "Requirement already satisfied: pyparsing>=2.3.1 in /usr/local/lib/python3.11/site-packages (from matplotlib>=3.3.4->ase==3.23.0) (3.2.3)\n",
            "Requirement already satisfied: python-dateutil>=2.7 in /usr/local/lib/python3.11/site-packages (from matplotlib>=3.3.4->ase==3.23.0) (2.9.0.post0)\n",
            "Requirement already satisfied: six>=1.5 in /usr/local/lib/python3.11/site-packages (from python-dateutil>=2.7->matplotlib>=3.3.4->ase==3.23.0) (1.17.0)\n"
          ]
        }
      ],
      "source": [
        "!pip install ase==3.23.0"
      ]
    },
    {
      "cell_type": "code",
      "source": [
        "!pip install -q condacolab\n",
        "import condacolab\n",
        "condacolab.install()\n",
        "\n",
        "# install quantum espresso from conda\n",
        "!conda install conda-forge::qe"
      ],
      "metadata": {
        "colab": {
          "base_uri": "https://localhost:8080/"
        },
        "collapsed": true,
        "id": "StHCBS5jUton",
        "outputId": "bca1af7f-82be-4bf1-ab43-fce4ce99e460"
      },
      "execution_count": null,
      "outputs": [
        {
          "output_type": "stream",
          "name": "stdout",
          "text": [
            "✨🍰✨ Everything looks OK!\n",
            "Channels:\n",
            " - conda-forge\n",
            "Platform: linux-64\n",
            "Collecting package metadata (repodata.json): - \b\b\\ \b\b| \b\b/ \b\b- \b\b\\ \b\b| \b\b/ \b\bdone\n",
            "Solving environment: \\ \b\b| \b\b/ \b\bdone\n",
            "\n",
            "\n",
            "==> WARNING: A newer version of conda exists. <==\n",
            "    current version: 24.11.3\n",
            "    latest version: 25.5.0\n",
            "\n",
            "Please update conda by running\n",
            "\n",
            "    $ conda update -n base -c conda-forge conda\n",
            "\n",
            "\n",
            "\n",
            "# All requested packages already installed.\n",
            "\n"
          ]
        }
      ]
    },
    {
      "cell_type": "code",
      "source": [
        "from google.colab import drive\n",
        "drive.mount('/content/drive')"
      ],
      "metadata": {
        "id": "haSQx4zaUt6h",
        "colab": {
          "base_uri": "https://localhost:8080/"
        },
        "outputId": "2d688556-45b3-4df8-c599-5bcd022b4883"
      },
      "execution_count": null,
      "outputs": [
        {
          "output_type": "stream",
          "name": "stdout",
          "text": [
            "Mounted at /content/drive\n"
          ]
        }
      ]
    },
    {
      "cell_type": "code",
      "source": [
        "# Below imports necessary functions\n",
        "from IPython.display import HTML, Image\n",
        "\n",
        "import matplotlib.pyplot as plt\n",
        "import matplotlib.image as mpimg\n",
        "from matplotlib.animation import FuncAnimation\n",
        "\n",
        "from ase import Atoms\n",
        "from ase.build import make_supercell, bulk, fcc111, molecule, add_adsorbate\n",
        "from ase.io import read, write\n",
        "from ase.visualize import view\n",
        "\n",
        "import os\n",
        "os.makedirs(\"output\", exist_ok=True)\n",
        "\n",
        "import numpy as np\n",
        "\n",
        "\n",
        "# Below are functions necessary for viewing the structures\n",
        "def view_x3d(atoms, idx=0):\n",
        "    if isinstance(atoms[0], Atoms):\n",
        "        # Assume this is a trajectory or struct list\n",
        "        if (len(atoms) <= idx):\n",
        "                print(f\"The specified index exceeds the length of the trajectory. The length of the trajectory is {len(atoms)}.\")\n",
        "        return view(atoms[idx], viewer=\"x3d\")\n",
        "    else:\n",
        "        return view(atoms, viewer=\"x3d\")\n",
        "\n",
        "\n",
        "def view_ase_atoms(atoms, rotation=\"0x,0y,0z\", figsize=(4, 4), title=\"\", scale=100):\n",
        "    fig, ax = plt.subplots(figsize=figsize)\n",
        "    write(\"output/tmp.png\", atoms, rotation=rotation, scale=scale)\n",
        "    img = mpimg.imread('output/tmp.png')\n",
        "    ax.imshow(img)\n",
        "    ax.set_title(title)\n",
        "    ax.axis('off')\n",
        "    plt.show()\n",
        "    os.remove('output/tmp.png')\n",
        "    return\n",
        "\n",
        "\n",
        "def traj_to_apng(traj, rotation='30x,30y,30z'):\n",
        "    imgs = []\n",
        "    for atom in traj:\n",
        "        supercell = make_supercell(atom, [[1, 0, 0], [0, 1, 0], [0, 0, 1]])\n",
        "        write('output/tmp.png', supercell, rotation=rotation, show_unit_cell=2)\n",
        "        img = mpimg.imread('output/tmp.png')\n",
        "        imgs.append(img)\n",
        "    os.remove('output/tmp.png')\n",
        "\n",
        "    fig, ax = plt.subplots()\n",
        "\n",
        "    def update(frame):\n",
        "        img = imgs[frame]\n",
        "        ax.clear()\n",
        "        ax.imshow(img)\n",
        "        return []\n",
        "\n",
        "    ani = FuncAnimation(fig, update, frames=len(imgs), blit=True)\n",
        "    plt.close()\n",
        "    return HTML(ani.to_jshtml())"
      ],
      "metadata": {
        "id": "bYW7N2jvUuMp"
      },
      "execution_count": null,
      "outputs": []
    },
    {
      "cell_type": "markdown",
      "metadata": {
        "id": "v2nZ27P7qr-O"
      },
      "source": [
        "### Below is a function I created for running quantum expresso.  I'm using my  **3rd version** because it saves the output straight to my google drive."
      ]
    },
    {
      "cell_type": "code",
      "source": [
        "from ase.calculators.espresso import Espresso, EspressoProfile\n",
        "from ase.optimize import BFGS\n",
        "import shutil\n",
        "import os\n",
        "\n",
        "def run_qe_calculation(structure, calculation_type, pseudopotentials, calculation_label=\"Not_given\"):\n",
        "    \"\"\"\n",
        "    Runs a Quantum ESPRESSO calculation using ASE.\n",
        "\n",
        "    Parameters:\n",
        "        calculation_type (str): e.g., 'relax', 'scf', etc.\n",
        "        pseudopotentials (dict): Mapping of elements to UPF files.\n",
        "        structure (ase.Atoms): ASE Atoms object to be relaxed or calculated.\n",
        "\n",
        "    Returns:\n",
        "        float: Potential energy of the relaxed/final structure.\n",
        "    \"\"\"\n",
        "\n",
        "    # Mount Google Drive ONLY if it's not already mounted\n",
        "    from google.colab import drive\n",
        "    try:\n",
        "        drive.mount('/content/drive')\n",
        "    except ValueError:\n",
        "        pass  # Ignore if already mounted\n",
        "\n",
        "    # Set the folder path on Google Drive (where I want my results to be saved)\n",
        "    drive_folder = '/content/drive/MyDrive/My Results'  # Ruan and I adjust the folder path as needed\n",
        "    calculation_folder = os.path.join(drive_folder, calculation_label)\n",
        "\n",
        "    # Create the folder if it does not exist\n",
        "    os.makedirs(calculation_folder, exist_ok=True)\n",
        "\n",
        "    # Set up Quantum ESPRESSO input\n",
        "    input_data = {\n",
        "        'control': {\n",
        "            'calculation': calculation_type,\n",
        "            'verbosity': 'high',\n",
        "            'pseudo_dir': os.path.abspath('./'),  # Use os.path.abspath to ensure absolute path\n",
        "            'restart_mode': 'from_scratch',\n",
        "            'tstress': True,\n",
        "            'tprnfor': True,\n",
        "            'outdir': calculation_folder  # Save QE native outputs here\n",
        "        },\n",
        "        'system': {\n",
        "            'ecutwfc': 30,\n",
        "            'ecutrho': 240,\n",
        "            'occupations': 'smearing',\n",
        "            'smearing': 'mv',               # Use smearing of \"mp\" or \"mv\" when dealing with metals and use \"gaussian\" when dealing with molecules.\n",
        "            'degauss': 0.01,  # when working with adsorbate change to 0.001\n",
        "            'nspin': 2\n",
        "        },\n",
        "        'electrons': {\n",
        "            'diagonalization': 'david',\n",
        "            'mixing_mode': 'plain',\n",
        "            'mixing_beta': 0.7,\n",
        "            # 'conv_thr': 1e-6\n",
        "        }\n",
        "    }\n",
        "\n",
        "    profile = EspressoProfile(command='/usr/local/bin/pw.x', pseudo_dir='./')  # or os.path.abspath('./') if pseudo_dir is relative\n",
        "\n",
        "    calc = Espresso(\n",
        "        profile=profile,\n",
        "        input_data=input_data,\n",
        "        pseudopotentials=pseudopotentials,\n",
        "        kpts=(2, 2, 1),               # ****************************************   Note from Prof. Cecil: if slab dimensions is (4,4,1) use k-point of \"2,2,1\", or use a gamma k-point i.e \"1,1,1\". We can use 4,4,4 for unit cells.\n",
        "        directory=calculation_folder  # Save the output in the specified directory\n",
        "    )\n",
        "\n",
        "    structure.calc = calc\n",
        "\n",
        "    # Run calculation\n",
        "    energy = structure.get_potential_energy()\n",
        "\n",
        "    #*************** Below code is an attempt to put all outputs into a specific folder *******########\n",
        "    # Save energy summary to a text file\n",
        "    output_file = os.path.join(calculation_folder, f'{calculation_label}_output.txt')\n",
        "    with open(output_file, 'w') as f:\n",
        "        f.write(f'Energy of the relaxed structure: {energy} eV\\n')\n",
        "\n",
        "    # Save final structure as CIF\n",
        "    cif_path = os.path.join(calculation_folder, f'{calculation_label}_relaxed_structure.cif')\n",
        "    write(cif_path, structure)  # Save relaxed structure\n",
        "\n",
        "    # Redundantly ensure all generated files are in the Google Drive folder\n",
        "    try:\n",
        "        # Print source and destination to debug the issue\n",
        "        print(f\"Source directory: {calc.directory}\")\n",
        "        print(f\"Destination directory: {calculation_folder}\")\n",
        "\n",
        "        # Copy files manually, avoid using copytree in case of special characters to avoid errors\n",
        "        for item in os.listdir(calc.directory):\n",
        "            s = os.path.join(calc.directory, item)\n",
        "            d = os.path.join(calculation_folder, item)\n",
        "            if os.path.isdir(s):\n",
        "                shutil.copytree(s, d, dirs_exist_ok=True)  # If it's a directory, copy it recursively\n",
        "            else:\n",
        "                shutil.copy2(s, d)  # If it's a file, copy it\n",
        "\n",
        "    except Exception as e:\n",
        "        print(f\"Error during file copy: {e}\")\n",
        "\n",
        "    return energy"
      ],
      "metadata": {
        "id": "9oEJSkG5UugN"
      },
      "execution_count": null,
      "outputs": []
    },
    {
      "cell_type": "markdown",
      "metadata": {
        "id": "ifyrss9srWKn"
      },
      "source": [
        "### Below code generates a pseudopotential dictionary from all the available pseusopotential files available in the directory"
      ]
    },
    {
      "cell_type": "code",
      "source": [
        "def generate_pseudopotential_dict(pseudo_dir='./'):\n",
        "    \"\"\"\n",
        "    Automatically generates a pseudopotential dictionary by scanning a directory for .UPF files.\n",
        "\n",
        "    Args:\n",
        "        pseudo_dir (str): Path to the directory containing UPF files.\n",
        "\n",
        "    Returns:\n",
        "        dict: Dictionary in the form {element: filename}\n",
        "    \"\"\"\n",
        "    pp_dict = {}\n",
        "    for file in os.listdir(pseudo_dir):\n",
        "        if file.endswith(\".UPF\"):\n",
        "            element = file.split('.')[0]  # assumes element is the first part of the filename\n",
        "            pp_dict[element] = file\n",
        "    return pp_dict"
      ],
      "metadata": {
        "id": "Fp38baqlUu0F"
      },
      "execution_count": null,
      "outputs": []
    },
    {
      "cell_type": "markdown",
      "metadata": {
        "id": "ntpyf1blVV4y"
      },
      "source": [
        "### Below function I created helps me freeze atoms in the desired layers:"
      ]
    },
    {
      "cell_type": "code",
      "source": [
        "def freeze(structure, no_of_layers_from_bottom_to_be_frozen):   #note \"structure\" refers to tht bulk structure in which I want to freeze some atoms.\n",
        "  # Below gets the cordinate of the atoms in the structure\n",
        "  atoms = structure\n",
        "  import pandas as pd #importing this in case I fogot to import it earlier\n",
        "  df = pd.DataFrame({\n",
        "    \"x\": atoms.positions[:, 0],\n",
        "    \"y\": atoms.positions[:, 1],\n",
        "    \"z\": atoms.positions[:, 2],\n",
        "    \"symbol\": atoms.symbols,\n",
        "  })\n",
        "  #Below isolates the z cordinates of all the atoms into a list\n",
        "  z_list = df[\"z\"].tolist()\n",
        "  unique_z_values = list(set(z_list))  # removes duplicates\n",
        "  sorted_z = sorted(unique_z_values, reverse=False)  # Sort from smallest to largest\n",
        "  #identify the tresh of the z cordinates of the atoms to be frozen\n",
        "  thresh =  (sorted_z[no_of_layers_from_bottom_to_be_frozen] + sorted_z[no_of_layers_from_bottom_to_be_frozen-1])/2\n",
        "  # print(thresh) #************************************************************************************************************************************** For troubleshooting\n",
        "  #below applies the constraint to the atoms in the layers I deliniated with the treshold\n",
        "  from ase.constraints import FixAtoms   # In case I forget to call it earlier\n",
        "  constraint = FixAtoms(mask=structure.positions[:, 2] < thresh)\n",
        "  structure.set_constraint(constraint)\n",
        "  return structure"
      ],
      "metadata": {
        "id": "22LegfD6vMMR"
      },
      "execution_count": null,
      "outputs": []
    },
    {
      "cell_type": "markdown",
      "metadata": {
        "id": "Hqu2PqaEvpSy"
      },
      "source": [
        "# Calculation Steps"
      ]
    },
    {
      "cell_type": "code",
      "source": [
        "#step 1: Upload the necessary Pseudopotential files\n",
        "from google.colab import files\n",
        "uploaded = files.upload()"
      ],
      "metadata": {
        "id": "v_iuLDMEVZIy",
        "colab": {
          "base_uri": "https://localhost:8080/",
          "height": 38
        },
        "outputId": "c801b1f0-3d22-40a3-8268-0304a1558891"
      },
      "execution_count": null,
      "outputs": [
        {
          "output_type": "display_data",
          "data": {
            "text/plain": [
              "<IPython.core.display.HTML object>"
            ],
            "text/html": [
              "\n",
              "     <input type=\"file\" id=\"files-97b9a513-1808-4f94-8406-acc3200441c2\" name=\"files[]\" multiple disabled\n",
              "        style=\"border:none\" />\n",
              "     <output id=\"result-97b9a513-1808-4f94-8406-acc3200441c2\">\n",
              "      Upload widget is only available when the cell has been executed in the\n",
              "      current browser session. Please rerun this cell to enable.\n",
              "      </output>\n",
              "      <script>// Copyright 2017 Google LLC\n",
              "//\n",
              "// Licensed under the Apache License, Version 2.0 (the \"License\");\n",
              "// you may not use this file except in compliance with the License.\n",
              "// You may obtain a copy of the License at\n",
              "//\n",
              "//      http://www.apache.org/licenses/LICENSE-2.0\n",
              "//\n",
              "// Unless required by applicable law or agreed to in writing, software\n",
              "// distributed under the License is distributed on an \"AS IS\" BASIS,\n",
              "// WITHOUT WARRANTIES OR CONDITIONS OF ANY KIND, either express or implied.\n",
              "// See the License for the specific language governing permissions and\n",
              "// limitations under the License.\n",
              "\n",
              "/**\n",
              " * @fileoverview Helpers for google.colab Python module.\n",
              " */\n",
              "(function(scope) {\n",
              "function span(text, styleAttributes = {}) {\n",
              "  const element = document.createElement('span');\n",
              "  element.textContent = text;\n",
              "  for (const key of Object.keys(styleAttributes)) {\n",
              "    element.style[key] = styleAttributes[key];\n",
              "  }\n",
              "  return element;\n",
              "}\n",
              "\n",
              "// Max number of bytes which will be uploaded at a time.\n",
              "const MAX_PAYLOAD_SIZE = 100 * 1024;\n",
              "\n",
              "function _uploadFiles(inputId, outputId) {\n",
              "  const steps = uploadFilesStep(inputId, outputId);\n",
              "  const outputElement = document.getElementById(outputId);\n",
              "  // Cache steps on the outputElement to make it available for the next call\n",
              "  // to uploadFilesContinue from Python.\n",
              "  outputElement.steps = steps;\n",
              "\n",
              "  return _uploadFilesContinue(outputId);\n",
              "}\n",
              "\n",
              "// This is roughly an async generator (not supported in the browser yet),\n",
              "// where there are multiple asynchronous steps and the Python side is going\n",
              "// to poll for completion of each step.\n",
              "// This uses a Promise to block the python side on completion of each step,\n",
              "// then passes the result of the previous step as the input to the next step.\n",
              "function _uploadFilesContinue(outputId) {\n",
              "  const outputElement = document.getElementById(outputId);\n",
              "  const steps = outputElement.steps;\n",
              "\n",
              "  const next = steps.next(outputElement.lastPromiseValue);\n",
              "  return Promise.resolve(next.value.promise).then((value) => {\n",
              "    // Cache the last promise value to make it available to the next\n",
              "    // step of the generator.\n",
              "    outputElement.lastPromiseValue = value;\n",
              "    return next.value.response;\n",
              "  });\n",
              "}\n",
              "\n",
              "/**\n",
              " * Generator function which is called between each async step of the upload\n",
              " * process.\n",
              " * @param {string} inputId Element ID of the input file picker element.\n",
              " * @param {string} outputId Element ID of the output display.\n",
              " * @return {!Iterable<!Object>} Iterable of next steps.\n",
              " */\n",
              "function* uploadFilesStep(inputId, outputId) {\n",
              "  const inputElement = document.getElementById(inputId);\n",
              "  inputElement.disabled = false;\n",
              "\n",
              "  const outputElement = document.getElementById(outputId);\n",
              "  outputElement.innerHTML = '';\n",
              "\n",
              "  const pickedPromise = new Promise((resolve) => {\n",
              "    inputElement.addEventListener('change', (e) => {\n",
              "      resolve(e.target.files);\n",
              "    });\n",
              "  });\n",
              "\n",
              "  const cancel = document.createElement('button');\n",
              "  inputElement.parentElement.appendChild(cancel);\n",
              "  cancel.textContent = 'Cancel upload';\n",
              "  const cancelPromise = new Promise((resolve) => {\n",
              "    cancel.onclick = () => {\n",
              "      resolve(null);\n",
              "    };\n",
              "  });\n",
              "\n",
              "  // Wait for the user to pick the files.\n",
              "  const files = yield {\n",
              "    promise: Promise.race([pickedPromise, cancelPromise]),\n",
              "    response: {\n",
              "      action: 'starting',\n",
              "    }\n",
              "  };\n",
              "\n",
              "  cancel.remove();\n",
              "\n",
              "  // Disable the input element since further picks are not allowed.\n",
              "  inputElement.disabled = true;\n",
              "\n",
              "  if (!files) {\n",
              "    return {\n",
              "      response: {\n",
              "        action: 'complete',\n",
              "      }\n",
              "    };\n",
              "  }\n",
              "\n",
              "  for (const file of files) {\n",
              "    const li = document.createElement('li');\n",
              "    li.append(span(file.name, {fontWeight: 'bold'}));\n",
              "    li.append(span(\n",
              "        `(${file.type || 'n/a'}) - ${file.size} bytes, ` +\n",
              "        `last modified: ${\n",
              "            file.lastModifiedDate ? file.lastModifiedDate.toLocaleDateString() :\n",
              "                                    'n/a'} - `));\n",
              "    const percent = span('0% done');\n",
              "    li.appendChild(percent);\n",
              "\n",
              "    outputElement.appendChild(li);\n",
              "\n",
              "    const fileDataPromise = new Promise((resolve) => {\n",
              "      const reader = new FileReader();\n",
              "      reader.onload = (e) => {\n",
              "        resolve(e.target.result);\n",
              "      };\n",
              "      reader.readAsArrayBuffer(file);\n",
              "    });\n",
              "    // Wait for the data to be ready.\n",
              "    let fileData = yield {\n",
              "      promise: fileDataPromise,\n",
              "      response: {\n",
              "        action: 'continue',\n",
              "      }\n",
              "    };\n",
              "\n",
              "    // Use a chunked sending to avoid message size limits. See b/62115660.\n",
              "    let position = 0;\n",
              "    do {\n",
              "      const length = Math.min(fileData.byteLength - position, MAX_PAYLOAD_SIZE);\n",
              "      const chunk = new Uint8Array(fileData, position, length);\n",
              "      position += length;\n",
              "\n",
              "      const base64 = btoa(String.fromCharCode.apply(null, chunk));\n",
              "      yield {\n",
              "        response: {\n",
              "          action: 'append',\n",
              "          file: file.name,\n",
              "          data: base64,\n",
              "        },\n",
              "      };\n",
              "\n",
              "      let percentDone = fileData.byteLength === 0 ?\n",
              "          100 :\n",
              "          Math.round((position / fileData.byteLength) * 100);\n",
              "      percent.textContent = `${percentDone}% done`;\n",
              "\n",
              "    } while (position < fileData.byteLength);\n",
              "  }\n",
              "\n",
              "  // All done.\n",
              "  yield {\n",
              "    response: {\n",
              "      action: 'complete',\n",
              "    }\n",
              "  };\n",
              "}\n",
              "\n",
              "scope.google = scope.google || {};\n",
              "scope.google.colab = scope.google.colab || {};\n",
              "scope.google.colab._files = {\n",
              "  _uploadFiles,\n",
              "  _uploadFilesContinue,\n",
              "};\n",
              "})(self);\n",
              "</script> "
            ]
          },
          "metadata": {}
        }
      ]
    },
    {
      "cell_type": "code",
      "source": [
        "#Step 2: Generate a pseudo dictionary with my function\n",
        "pseudo_dict = generate_pseudopotential_dict(pseudo_dir='./')\n",
        "print(pseudo_dict)"
      ],
      "metadata": {
        "id": "5QQK59tNVe8n",
        "colab": {
          "base_uri": "https://localhost:8080/"
        },
        "outputId": "867b7a73-0060-4b77-a3f2-8876d2aee096"
      },
      "execution_count": null,
      "outputs": [
        {
          "output_type": "stream",
          "name": "stdout",
          "text": [
            "{'Ni': 'Ni.pbesol-spn-kjpaw_psl.1.0.0.UPF', 'Zn': 'Zn.pbe-dnl-kjpaw_psl.1.0.0.UPF', 'Cu': 'Cu.pbe-dn-kjpaw_psl.1.0.0.UPF', 'Fe': 'Fe.pbesol-spn-kjpaw_psl.1.0.0.UPF', 'Co': 'Co.pbesol-spn-kjpaw_psl.0.3.1.UPF', 'V': 'V.pbesol-spnl-kjpaw_psl.1.0.0.UPF', 'Cr': 'Cr.pbesol-spn-kjpaw_psl.1.0.0.UPF', 'Sc': 'Sc.pbesol-spn-kjpaw_psl.1.0.0.UPF', 'Mn': 'Mn.pbesol-spn-kjpaw_psl.0.3.1.UPF', 'Ti': 'Ti.pbesol-spn-kjpaw_psl.1.0.0.UPF'}\n"
          ]
        }
      ]
    },
    {
      "cell_type": "markdown",
      "source": [
        "### Below is a function to add an adsrobate to the ontop, bridge or hollow position."
      ],
      "metadata": {
        "id": "Yqdz9-sY5ULX"
      }
    },
    {
      "cell_type": "code",
      "source": [
        "from ase.io import read, write\n",
        "from ase.build import molecule, add_adsorbate\n",
        "import numpy as np\n",
        "\n",
        "def add_adsorbate_to_slab(slab, adsorbate, height, site='ontop'):\n",
        "    \"\"\"\n",
        "    Add an adsorbate to a slab at a specified adsorption site.\n",
        "\n",
        "    Parameters:\n",
        "    - slab: ASE Atoms object, the pre-built BCC(111) slab\n",
        "    - adsorbate: str, e.g., 'NH3', 'CO'\n",
        "    - height: float, height above surface in Å\n",
        "    - site: str, one of 'ontop', 'bridge', 'hollow'\n",
        "\n",
        "    Returns:\n",
        "    - ASE Atoms object with adsorbate added\n",
        "    \"\"\"\n",
        "    # Get surface atoms (highest z)\n",
        "    zmax = max(atom.position[2] for atom in slab)\n",
        "    surface_atoms = [atom for atom in slab if abs(atom.position[2] - zmax) < 0.1]\n",
        "\n",
        "    if len(surface_atoms) < 1:\n",
        "        raise ValueError(\"No surface atoms found on slab.\")\n",
        "\n",
        "    # Determine site coordinates\n",
        "    if site == 'ontop':\n",
        "        x, y, _ = surface_atoms[0].position\n",
        "\n",
        "    elif site == 'bridge':\n",
        "        if len(surface_atoms) < 2:\n",
        "            raise ValueError(\"Not enough atoms for bridge site.\")\n",
        "        a1, a2 = surface_atoms[0], surface_atoms[1]\n",
        "        x = (a1.x + a2.x) / 2\n",
        "        y = (a1.y + a2.y) / 2\n",
        "\n",
        "    elif site == 'hollow':\n",
        "        if len(surface_atoms) < 3:\n",
        "            raise ValueError(\"Not enough atoms for hollow site.\")\n",
        "        x_center = sum(atom.x for atom in surface_atoms) / len(surface_atoms)\n",
        "        y_center = sum(atom.y for atom in surface_atoms) / len(surface_atoms)\n",
        "\n",
        "        def distance(atom, x, y):\n",
        "            return np.sqrt((atom.x - x)**2 + (atom.y - y)**2)\n",
        "\n",
        "        sorted_atoms = sorted(surface_atoms, key=lambda atom: distance(atom, x_center, y_center))\n",
        "        a1, a2, a3 = sorted_atoms[:3]\n",
        "        x = (a1.x + a2.x + a3.x) / 3\n",
        "        y = (a1.y + a2.y + a3.y) / 3\n",
        "\n",
        "    else:\n",
        "        raise ValueError(\"site must be 'ontop', 'bridge', or 'hollow'\")\n",
        "\n",
        "    # Prepare adsorbate molecule\n",
        "    mol = molecule(adsorbate)\n",
        "    mol.rotate(180, 'x', center='COP')\n",
        "\n",
        "    # Add adsorbate to slab\n",
        "    add_adsorbate(slab, mol, height, position=(x, y))\n",
        "\n",
        "    return slab"
      ],
      "metadata": {
        "id": "GEPmOzCW2Zti"
      },
      "execution_count": null,
      "outputs": []
    },
    {
      "cell_type": "markdown",
      "source": [
        "### Below code takes an optimized slab and adds the adsorbate using the above function. The structure is then geometrically optimized"
      ],
      "metadata": {
        "id": "1jd9_PFs55aa"
      }
    },
    {
      "cell_type": "code",
      "source": [
        "slab = read(\"your_slab_file.cif\")  #  replace with your actual slab CIF file path\n",
        "sites = ['ontop', 'bridge', 'hollow']\n",
        "adsorbate = \"NH3\"\n",
        "height = 3.0  # Angstroms\n",
        "\n",
        "# ---- LOOP OVER TEST SITES ----\n",
        "for site in sites:\n",
        "    slab_copy = slab.copy()\n",
        "\n",
        "    try:\n",
        "        slab_with_ads = add_adsorbate_to_slab(slab_copy, adsorbate, height, site)\n",
        "        print(f\"✅ Adsorbate added successfully at {site} site.\")\n",
        "\n",
        "        # Save to CIF for inspection\n",
        "        write(f\"adsorbed_{adsorbate}_{site}.cif\", slab_with_ads)\n",
        "\n",
        "        # Run relaxation\n",
        "        Calc_type = \"relax\"\n",
        "        calc_label = f\"{Element}_(3,3,4)_{adsorbate}_{site}_{Calc_type}\"\n",
        "        print(f\"\\n Starting relaxation for site: {site}\")\n",
        "\n",
        "        start = time.time()\n",
        "        E = run_qe_calculation(slab_with_ads, Calc_type, pseudo_dict, calc_label)\n",
        "        end = time.time()\n",
        "\n",
        "        # Calculate duration\n",
        "        duration = end - start\n",
        "        hours = duration // 3600\n",
        "        minutes = (duration % 3600) // 60\n",
        "        seconds = duration\n",
        "        remaining_seconds = seconds % 60\n",
        "\n",
        "        print(f\"✅ Relaxation finished for {site} site in\", hours, \"hours\", minutes, \"minutes,\", remaining_seconds, \"seconds\")\n",
        "        print(f\"🧪 Energy of the {site} adsorbed surface: {E} eV\")\n",
        "\n",
        "    except Exception as e:\n",
        "        print(f\"❌ Failed at {site} site: {e}\")"
      ],
      "metadata": {
        "id": "iW8qBAYVKpIr"
      },
      "execution_count": null,
      "outputs": []
    }
  ]
}